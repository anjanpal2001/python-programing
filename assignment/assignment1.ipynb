{
 "cells": [
  {
   "cell_type": "code",
   "execution_count": 1,
   "metadata": {},
   "outputs": [
    {
     "name": "stdout",
     "output_type": "stream",
     "text": [
      "Original Array:\n",
      "[[79 99 85]\n",
      " [91 47 65]\n",
      " [ 4  7 86]]\n",
      "\n",
      "Transposed Array:\n",
      "[[79 91  4]\n",
      " [99 47  7]\n",
      " [85 65 86]]\n"
     ]
    }
   ],
   "source": [
    "# 1. Create a 3x3 NumPy array with random integers between 1 and 100. Then, interchange its rows and columns\n",
    "import numpy as np # type: ignore\n",
    "array = np.random.randint(1, 101, size=(3, 3))\n",
    "print(\"Original Array:\")\n",
    "print(array)\n",
    "transposed_array = array.T\n",
    "print(\"\\nTransposed Array:\")\n",
    "print(transposed_array)"
   ]
  },
  {
   "cell_type": "code",
   "execution_count": 2,
   "metadata": {},
   "outputs": [
    {
     "name": "stdout",
     "output_type": "stream",
     "text": [
      "Original 1D Array:\n",
      " [0 1 2 3 4 5 6 7 8 9]\n",
      "\n",
      "Reshaped to 2x5 Array:\n",
      "[[0 1 2 3 4]\n",
      " [5 6 7 8 9]]\n",
      "\n",
      "Reshaped to 5x2 Array:\n",
      "[[0 1]\n",
      " [2 3]\n",
      " [4 5]\n",
      " [6 7]\n",
      " [8 9]]\n"
     ]
    }
   ],
   "source": [
    "# 2. Generate a 1D NumPy array with 10 elements. Reshape it into a 2x5 array, then into a 5x2 array\n",
    "import numpy as np\n",
    "\n",
    "# Step 1: Generate a 1D array with 10 elements\n",
    "array_1d = np.arange(10)\n",
    "print(\"Original 1D Array:\\n\",array_1d)\n",
    "\n",
    "\n",
    "# Step 2: Reshape the array into a 2x5 array\n",
    "array_2x5 = array_1d.reshape(2, 5)\n",
    "print(\"\\nReshaped to 2x5 Array:\")\n",
    "print(array_2x5)\n",
    "\n",
    "# Step 3: Reshape the array into a 5x2 array\n",
    "array_5x2 = array_2x5.reshape(5, 2)\n",
    "print(\"\\nReshaped to 5x2 Array:\")\n",
    "print(array_5x2)\n"
   ]
  },
  {
   "cell_type": "code",
   "execution_count": 3,
   "metadata": {},
   "outputs": [
    {
     "name": "stdout",
     "output_type": "stream",
     "text": [
      "Original 4x4 Array:\n",
      "[[0.65416753 0.69729494 0.56551887 0.91488736]\n",
      " [0.47910938 0.40925168 0.32035425 0.32187263]\n",
      " [0.06270824 0.33529045 0.54570481 0.30562802]\n",
      " [0.05184603 0.4712748  0.39830648 0.3894426 ]]\n",
      "\n",
      "6x6 Array with Zero Border (Manual Method):\n",
      "[[0.         0.         0.         0.         0.         0.        ]\n",
      " [0.         0.65416753 0.69729494 0.56551887 0.91488736 0.        ]\n",
      " [0.         0.47910938 0.40925168 0.32035425 0.32187263 0.        ]\n",
      " [0.         0.06270824 0.33529045 0.54570481 0.30562802 0.        ]\n",
      " [0.         0.05184603 0.4712748  0.39830648 0.3894426  0.        ]\n",
      " [0.         0.         0.         0.         0.         0.        ]]\n"
     ]
    }
   ],
   "source": [
    "#  Create a 4x4 NumPy array with random float values. Add a border of zeros around it, resulting in a 6x6 array\n",
    "import numpy as np\n",
    "\n",
    "# Step 1: Create a 4x4 array with random float values\n",
    "array_4x4 = np.random.rand(4, 4)\n",
    "print(\"Original 4x4 Array:\")\n",
    "print(array_4x4)\n",
    "\n",
    "# Step 2: Add a border of zeros around the array\n",
    "array_6x6 = np.zeros((6, 6))\n",
    "array_6x6[1:5, 1:5] = array_4x4\n",
    "print(array_6x6)\n"
   ]
  },
  {
   "cell_type": "code",
   "execution_count": 4,
   "metadata": {},
   "outputs": [
    {
     "data": {
      "text/plain": [
       "array([10, 15, 20, 25, 30, 35, 40, 45, 50, 55])"
      ]
     },
     "execution_count": 4,
     "metadata": {},
     "output_type": "execute_result"
    }
   ],
   "source": [
    "# 4. Using NumPy, create an array of integers from 10 to 60 with a step of 5\n",
    "np.arange(10, 60, 5)"
   ]
  },
  {
   "cell_type": "code",
   "execution_count": 6,
   "metadata": {},
   "outputs": [
    {
     "name": "stdout",
     "output_type": "stream",
     "text": [
      "['PYTHON' 'NUMPY' 'PANDAS']\n",
      "['python' 'numpy' 'pandas']\n",
      "['Python' 'Numpy' 'Pandas']\n"
     ]
    }
   ],
   "source": [
    "# 5. Create a NumPy array of strings ['python', 'numpy', 'pandas']. Apply different case transformations \n",
    "# (uppercase, lowercase, title case, etc.) to each element\n",
    "l=['python', 'numpy', 'pandas']\n",
    "arr = np.array(l)\n",
    "print(np.char.upper(arr))\n",
    "print(np.char.lower(arr))\n",
    "print(np.char.capitalize(arr))"
   ]
  },
  {
   "cell_type": "code",
   "execution_count": 10,
   "metadata": {},
   "outputs": [
    {
     "name": "stdout",
     "output_type": "stream",
     "text": [
      "Original Array of Words:\n",
      "['hello' 'world' 'numpy' 'array']\n",
      "\n",
      "Array of Words with Spaces Between Characters:\n",
      "['h e l l o' 'w o r l d' 'n u m p y' 'a r r a y']\n"
     ]
    }
   ],
   "source": [
    "# 6. Generate a NumPy array of words. Insert a space between each character of every word in the array.\n",
    "words = np.asarray(['hello', 'world', 'numpy', 'array'])\n",
    "spaced_words = np.array([' '.join(i) for i in words])\n",
    "print(\"Original Array of Words:\")\n",
    "print(words)\n",
    "print(\"\\nArray of Words with Spaces Between Characters:\")\n",
    "print(spaced_words)\n"
   ]
  },
  {
   "cell_type": "code",
   "execution_count": 12,
   "metadata": {},
   "outputs": [
    {
     "name": "stdout",
     "output_type": "stream",
     "text": [
      "[[3 4 2]\n",
      " [3 3 3]\n",
      " [2 2 3]]\n",
      "[[-1  0  0]\n",
      " [-1  1 -1]\n",
      " [ 0  0 -1]]\n",
      "[[2 4 1]\n",
      " [2 2 2]\n",
      " [1 1 2]]\n",
      "[[0.5 1.  1. ]\n",
      " [0.5 2.  0.5]\n",
      " [1.  1.  0.5]]\n"
     ]
    }
   ],
   "source": [
    "# 7. Create two 2D NumPy arrays and perform element-wise addition, subtraction, multiplication, and division.\n",
    "arr1 = np.random.randint(1, 3, (3,3))\n",
    "arr2 = np.random.randint(1, 3, (3,3))\n",
    "print(arr1+arr2)\n",
    "print(arr1-arr2)\n",
    "print(arr1*arr2)\n",
    "print(arr1/arr2)"
   ]
  },
  {
   "cell_type": "code",
   "execution_count": 14,
   "metadata": {},
   "outputs": [
    {
     "name": "stdout",
     "output_type": "stream",
     "text": [
      "5x5 Identity Matrix:\n",
      "[[1. 0. 0. 0. 0.]\n",
      " [0. 1. 0. 0. 0.]\n",
      " [0. 0. 1. 0. 0.]\n",
      " [0. 0. 0. 1. 0.]\n",
      " [0. 0. 0. 0. 1.]]\n",
      "\n",
      "Diagonal Elements:\n",
      "[1. 1. 1. 1. 1.]\n"
     ]
    }
   ],
   "source": [
    "# 8. Use NumPy to create a 5x5 identity matrix, then extract its diagonal elements\n",
    "# Step 1: Create a 5x5 identity matrix\n",
    "identity_matrix = np.eye(5)\n",
    "print(\"5x5 Identity Matrix:\")\n",
    "print(identity_matrix)\n",
    "diagonal_elements = np.diagonal(identity_matrix)\n",
    "print(\"\\nDiagonal Elements:\")\n",
    "print(diagonal_elements)"
   ]
  },
  {
   "cell_type": "code",
   "execution_count": 24,
   "metadata": {},
   "outputs": [
    {
     "name": "stdout",
     "output_type": "stream",
     "text": [
      "Random Integers Array:\n",
      "[419 890 549 844 362 120 443 595 958 822 726 101 717 573 583 626 463 557\n",
      " 896 875 675  25 185 254  12 371 416 680 244 498 240 831 548 903 827 569\n",
      " 125 661 582 369 791 206 168 225 488 901 266 431 268 975 658 588 226 968\n",
      " 498 336 448 404 455 504 492  98 146 379 959 159 609 215 149 965 876 232\n",
      "  35 410 447 607 173 730 598 622 888 524 438 372 700 192 778 764 109 460\n",
      " 815 736 368  40 138 777 306 623 623 436]\n",
      "\n",
      "Prime Numbers in the Array:\n",
      "[np.int32(419), np.int32(443), np.int32(101), np.int32(463), np.int32(557), np.int32(827), np.int32(569), np.int32(661), np.int32(431), np.int32(379), np.int32(149), np.int32(607), np.int32(173), np.int32(109)]\n",
      "14\n"
     ]
    }
   ],
   "source": [
    "# 9. Generate a NumPy array of 100 random integers between 0 and 1000. Find and display all prime numbers in this array.\n",
    "import numpy as np\n",
    "\n",
    "# Step 1: Generate a NumPy array of 100 random integers between 0 and 1000\n",
    "random_integers = np.random.randint(0, 1001, size=100)\n",
    "print(\"Random Integers Array:\")\n",
    "print(random_integers)\n",
    "\n",
    "\n",
    "def is_prime(num):\n",
    "    if num < 2:\n",
    "        return False\n",
    "    for i in range(2, int(num**0.5) + 1):\n",
    "        if num % i == 0:\n",
    "            return False\n",
    "    return True\n",
    "prime_numbers = [num for num in random_integers if is_prime(num)]\n",
    "print(\"\\nPrime Numbers in the Array:\")\n",
    "print(prime_numbers)\n",
    "print(len(prime_numbers))\n",
    "\n"
   ]
  },
  {
   "cell_type": "code",
   "execution_count": 33,
   "metadata": {},
   "outputs": [
    {
     "name": "stdout",
     "output_type": "stream",
     "text": [
      "Daily Temperatures for the Month:\n",
      "[ 10  15  22  -6  29   3  -8  -2  -5  30  27   5   0  -6  11  21  -1  16\n",
      "  23   9  22  35  10   1  15  14  10 -10  35  -3]\n",
      "\n",
      "Weekly Average Temperatures:\n",
      "10.733333333333333\n"
     ]
    }
   ],
   "source": [
    "# 10. Create a NumPy array representing daily temperatures for a month. Calculate and display the weekly \n",
    "# averages\n",
    "# For example, temperatures can range from -10 to 35 degrees Celsius\n",
    "daily_temperatures = np.random.randint(-10, 36, size=30)\n",
    "print(\"Daily Temperatures for the Month:\")\n",
    "print(daily_temperatures)\n",
    "weekly_averages = np.mean(daily_temperatures)\n",
    "print(\"\\nWeekly Average Temperatures:\")\n",
    "print(weekly_averages)\n"
   ]
  },
  {
   "cell_type": "code",
   "execution_count": null,
   "metadata": {},
   "outputs": [],
   "source": []
  },
  {
   "cell_type": "code",
   "execution_count": null,
   "metadata": {},
   "outputs": [],
   "source": []
  }
 ],
 "metadata": {
  "kernelspec": {
   "display_name": "Python 3",
   "language": "python",
   "name": "python3"
  },
  "language_info": {
   "codemirror_mode": {
    "name": "ipython",
    "version": 3
   },
   "file_extension": ".py",
   "mimetype": "text/x-python",
   "name": "python",
   "nbconvert_exporter": "python",
   "pygments_lexer": "ipython3",
   "version": "3.12.7"
  }
 },
 "nbformat": 4,
 "nbformat_minor": 2
}
