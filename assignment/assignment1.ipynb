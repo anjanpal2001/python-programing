{
 "cells": [
  {
   "cell_type": "code",
   "execution_count": 17,
   "metadata": {},
   "outputs": [
    {
     "data": {
      "text/plain": [
       "'laP najnA'"
      ]
     },
     "execution_count": 17,
     "metadata": {},
     "output_type": "execute_result"
    }
   ],
   "source": [
    "# 1•\tWrite a code to reverse a string\n",
    "s=\"Anjan Pal\"\n",
    "s[::-1]"
   ]
  },
  {
   "cell_type": "code",
   "execution_count": 18,
   "metadata": {},
   "outputs": [
    {
     "data": {
      "text/plain": [
       "2"
      ]
     },
     "execution_count": 18,
     "metadata": {},
     "output_type": "execute_result"
    }
   ],
   "source": [
    "# 2•Write a code to count the number of vowels in a string\n",
    "def count_vowels(s):\n",
    "    count = 0\n",
    "    for char in s:\n",
    "        if char in 'aeiou':\n",
    "            count += 1\n",
    "    return count      \n",
    "count_vowels(s)"
   ]
  },
  {
   "cell_type": "code",
   "execution_count": 19,
   "metadata": {},
   "outputs": [
    {
     "data": {
      "text/plain": [
       "True"
      ]
     },
     "execution_count": 19,
     "metadata": {},
     "output_type": "execute_result"
    }
   ],
   "source": [
    "# 3•\tWrite a code to check if a given string is a palindrome or not\n",
    "def palindrome_or_not(s):\n",
    "    s1=s[::-1]\n",
    "    if(s==s1): return True\n",
    "    else : return False\n",
    "\n",
    "b=input(\"pls enter a string : \")\n",
    "palindrome_or_not(b)"
   ]
  },
  {
   "cell_type": "code",
   "execution_count": 20,
   "metadata": {},
   "outputs": [
    {
     "name": "stdout",
     "output_type": "stream",
     "text": [
      "True\n"
     ]
    }
   ],
   "source": [
    "# 4 •\tWrite a code to check if two given strings are anagrams of each other\n",
    "def are_anagrams(str1, str2):\n",
    "    \n",
    "    str1 = str1.replace(\" \", \"\").lower()\n",
    "    str2 = str2.replace(\" \", \"\").lower()\n",
    "\n",
    "    # Sort both strings and compare\n",
    "    return sorted(str1) == sorted(str2)\n",
    "\n",
    "\n",
    "str1 = \"Listen\"\n",
    "str2 = \"Silent\"\n",
    "print(are_anagrams(str1, str2)) \n"
   ]
  },
  {
   "cell_type": "code",
   "execution_count": 21,
   "metadata": {},
   "outputs": [
    {
     "name": "stdout",
     "output_type": "stream",
     "text": [
      "[2, 5, 25, 28]\n"
     ]
    }
   ],
   "source": [
    "# 5•\tWrite a code to find all occurrences of a given substring within another string\n",
    "def find_all_occurrences(main_string, sub_string):\n",
    "    start = 0\n",
    "    occurrences = []\n",
    "    \n",
    "    while True:\n",
    "        start = main_string.find(sub_string, start)\n",
    "        \n",
    "        # If find() returns -1, no more occurrences are found\n",
    "        if start == -1:\n",
    "            break\n",
    "        \n",
    "        occurrences.append(start)\n",
    "        # Move the start index to the next position after the found substring\n",
    "        start += 1\n",
    "    \n",
    "    return occurrences\n",
    "\n",
    "# Example usage\n",
    "main_string = \"This is a test string. This is only a test.\"\n",
    "sub_string = \"is\"\n",
    "print(find_all_occurrences(main_string, sub_string))\n"
   ]
  },
  {
   "cell_type": "code",
   "execution_count": 22,
   "metadata": {},
   "outputs": [
    {
     "name": "stdout",
     "output_type": "stream",
     "text": [
      "a3b1c5a3\n"
     ]
    }
   ],
   "source": [
    "# 6•\tWrite a code to perform basic string compression using the counts of repeated characters\n",
    "def compress_string(s):\n",
    "    if not s:\n",
    "        return \"\"\n",
    "\n",
    "    compressed = []\n",
    "    count = 1\n",
    "    current_char = s[0]\n",
    "\n",
    "    for i in range(1, len(s)):\n",
    "        if s[i] == current_char:\n",
    "            count += 1\n",
    "        else:\n",
    "            compressed.append(current_char + str(count))\n",
    "            current_char = s[i]\n",
    "            count = 1\n",
    "\n",
    "    # Append the last set of characters\n",
    "    compressed.append(current_char + str(count))\n",
    "\n",
    "    # Join the list into a single string\n",
    "    compressed_string = ''.join(compressed)\n",
    "\n",
    "    return compressed_string if len(compressed_string) < len(s) else s\n",
    "\n",
    "# Example usage\n",
    "input_string = \"aaabcccccaaa\"\n",
    "print(compress_string(input_string))  \n"
   ]
  },
  {
   "cell_type": "code",
   "execution_count": 23,
   "metadata": {},
   "outputs": [
    {
     "name": "stdout",
     "output_type": "stream",
     "text": [
      "True\n",
      "False\n"
     ]
    }
   ],
   "source": [
    "# 7•\tWrite a code to determine if a string has all unique characters\n",
    "def has_all_unique_characters(s):\n",
    "    seen_characters = set()\n",
    "    \n",
    "    for char in s:\n",
    "        if char in seen_characters:\n",
    "            return False\n",
    "        seen_characters.add(char)\n",
    "    \n",
    "    return True\n",
    "\n",
    "# Example usage\n",
    "input_string = \"abcdefg\"\n",
    "print(has_all_unique_characters(input_string)) \n",
    "\n",
    "input_string = \"aabcdefg\"\n",
    "print(has_all_unique_characters(input_string))\n"
   ]
  },
  {
   "cell_type": "code",
   "execution_count": 24,
   "metadata": {},
   "outputs": [
    {
     "name": "stdout",
     "output_type": "stream",
     "text": [
      "('HELLO WORLD', 'hello world')\n"
     ]
    }
   ],
   "source": [
    "# 8•\tWrite a code to convert a given string to uppercase or lowercase\n",
    "def to_uppercase(s):\n",
    "    return s.upper(),s.lower()\n",
    "\n",
    "\n",
    "input_string = \"Hello World\"\n",
    "print(to_uppercase(input_string))  \n"
   ]
  },
  {
   "cell_type": "code",
   "execution_count": 25,
   "metadata": {},
   "outputs": [
    {
     "name": "stdout",
     "output_type": "stream",
     "text": [
      "6\n"
     ]
    }
   ],
   "source": [
    "# 9•\tWrite a code to count the number of words in a string\n",
    "def count_words(s):\n",
    "    # Split the string into words using whitespace as the separator\n",
    "    words = s.split()\n",
    "   \n",
    "    # print(words)\n",
    "    return len(words)\n",
    "\n",
    "\n",
    "input_string = \"Hello, this is a test string.\"\n",
    "print(count_words(input_string))  \n"
   ]
  },
  {
   "cell_type": "code",
   "execution_count": 26,
   "metadata": {},
   "outputs": [
    {
     "name": "stdout",
     "output_type": "stream",
     "text": [
      "Anjan pal\n"
     ]
    }
   ],
   "source": [
    "# 10•\tWrite a code to concatenate two strings without using the + operator\n",
    "def concatenation(s1, s2):\n",
    "    return \"\".join([s1, s2])\n",
    "\n",
    "print(concatenation(\"Anjan \", \"pal\")) \n"
   ]
  },
  {
   "cell_type": "code",
   "execution_count": 27,
   "metadata": {},
   "outputs": [
    {
     "data": {
      "text/plain": [
       "[1, 4, 8, 1, 3, 7]"
      ]
     },
     "execution_count": 27,
     "metadata": {},
     "output_type": "execute_result"
    }
   ],
   "source": [
    "# 11•\tWrite a code to remove all occurrences of a specific element from a list\n",
    "def remove_occurance(li,e):\n",
    "    l=[]\n",
    "    for i in li:\n",
    "        if(i!=e): l.append(i)\n",
    "        else:continue\n",
    "    return l\n",
    "\n",
    "remove_occurance([1,4,8,1,3,0,7],0)\n",
    "\n",
    "\n",
    "\n"
   ]
  },
  {
   "cell_type": "code",
   "execution_count": 28,
   "metadata": {},
   "outputs": [
    {
     "name": "stdout",
     "output_type": "stream",
     "text": [
      "The second largest number is: 15\n"
     ]
    }
   ],
   "source": [
    "# 12•\tImplement a code to find the second largest number in a given list of integers\n",
    "def find_second_largest(numbers):\n",
    "    if len(numbers) < 2:\n",
    "        return None \n",
    "    \n",
    "    unique_numbers = list(set(numbers))  \n",
    "    if len(unique_numbers) < 2:\n",
    "        return None \n",
    "    \n",
    "    unique_numbers.sort(reverse=True)  \n",
    "    return unique_numbers[1]  \n",
    "\n",
    "# Example usage\n",
    "numbers = [10, 5, 20, 8, 15, 20]\n",
    "second_largest = find_second_largest(numbers)\n",
    "print(\"The second largest number is:\", second_largest)\n"
   ]
  },
  {
   "cell_type": "code",
   "execution_count": 29,
   "metadata": {},
   "outputs": [
    {
     "name": "stdout",
     "output_type": "stream",
     "text": [
      "Element counts: {1: 1, 2: 2, 3: 3, 4: 4}\n"
     ]
    }
   ],
   "source": [
    "# 13.•\tCreate a code to count the occurrences of each element in a list and return a dictionary with elements as keys and their counts as values\n",
    "def count_occurrences(elements):\n",
    "    occurrence_dict = {}\n",
    "    \n",
    "    for i in elements:\n",
    "        if i in occurrence_dict:\n",
    "            occurrence_dict[i] += 1\n",
    "        else:\n",
    "            occurrence_dict[i] = 1\n",
    "            \n",
    "    return occurrence_dict\n",
    "\n",
    "# Example usage\n",
    "elements = [1, 2, 2, 3, 3, 3, 4, 4, 4, 4]\n",
    "occurrences = count_occurrences(elements)\n",
    "print(\"Element counts:\", occurrences)\n"
   ]
  },
  {
   "cell_type": "code",
   "execution_count": 30,
   "metadata": {},
   "outputs": [
    {
     "data": {
      "text/plain": [
       "[9, 5, 3, 7, 3, 8, 2, 1]"
      ]
     },
     "execution_count": 30,
     "metadata": {},
     "output_type": "execute_result"
    }
   ],
   "source": [
    "# 14•\tWrite a code to reverse a list in-place without using any built-in reverse functions\n",
    "def reverse_a_list(li):\n",
    "    i=0;j=len(li)-1\n",
    "    while (i<=j):\n",
    "        temp=li[i]\n",
    "        li[i]=li[j]\n",
    "        li[j]=temp\n",
    "        i=i+1\n",
    "        j=j-1\n",
    "    return li\n",
    "reverse_a_list([1,2,8,3,7,3,5,9])"
   ]
  },
  {
   "cell_type": "code",
   "execution_count": 31,
   "metadata": {},
   "outputs": [
    {
     "name": "stdout",
     "output_type": "stream",
     "text": [
      "List after removing duplicates: [1, 2, 3, 4, 5, 6]\n"
     ]
    }
   ],
   "source": [
    "# 15•\tImplement a code to find and remove duplicates from a list while preserving the original order of elements\n",
    "def remove_duplicates(original_list):\n",
    "    seen = set()\n",
    "    result = []\n",
    "    \n",
    "    for item in original_list:\n",
    "        if item not in seen:\n",
    "            result.append(item)\n",
    "            seen.add(item)\n",
    "    \n",
    "    return result\n",
    "\n",
    "# Example usage\n",
    "original_list = [1, 2, 3, 2, 4, 1, 5, 3, 6]\n",
    "unique_list = remove_duplicates(original_list)\n",
    "print(\"List after removing duplicates:\", unique_list)\n"
   ]
  },
  {
   "cell_type": "code",
   "execution_count": 32,
   "metadata": {},
   "outputs": [
    {
     "name": "stdout",
     "output_type": "stream",
     "text": [
      "True\n",
      "False\n"
     ]
    }
   ],
   "source": [
    "# 16•\tCreate a code to check if a given list is sorted (either in ascending or descending order) or not\n",
    "def is_sorted(li):\n",
    "    i = 0\n",
    "    j = i + 1\n",
    "    is_sorted = True\n",
    "    while j < len(li):\n",
    "        if li[i] > li[j]:\n",
    "            is_sorted = False\n",
    "            break\n",
    "        i += 1\n",
    "        j += 1\n",
    "    return is_sorted\n",
    "\n",
    "print(is_sorted([1, 2, 3, 4, 5, 6])) \n",
    "print(is_sorted([1, 3, 2, 4, 5, 6]))  \n",
    "    "
   ]
  },
  {
   "cell_type": "code",
   "execution_count": 2,
   "metadata": {},
   "outputs": [
    {
     "name": "stdout",
     "output_type": "stream",
     "text": [
      "[1, 2, 3, 4, 5, 6, 7, 8]\n"
     ]
    }
   ],
   "source": [
    "# 17•\tWrite a code to merge two sorted lists into a single sorted list\n",
    "def merge_sorted_lists(l1, l2):\n",
    "    lis = []\n",
    "    i = 0\n",
    "    j = 0\n",
    "    n1 = len(l1)\n",
    "    n2 = len(l2)\n",
    "    \n",
    "    while i < n1 and j < n2:\n",
    "        if l1[i] < l2[j]:\n",
    "            lis.append(l1[i])\n",
    "            i += 1\n",
    "        else:\n",
    "            lis.append(l2[j])\n",
    "            j += 1\n",
    "    \n",
    "    \n",
    "    while i < n1:\n",
    "        lis.append(l1[i])\n",
    "        i += 1\n",
    "    \n",
    "  \n",
    "    while j < n2:\n",
    "        lis.append(l2[j])\n",
    "        j += 1\n",
    "    \n",
    "    return lis\n",
    "\n",
    "# Example usage\n",
    "l1 = [1, 3, 5, 7]\n",
    "l2 = [2, 4, 6, 8]\n",
    "print(merge_sorted_lists(l1, l2))  \n",
    "\n"
   ]
  },
  {
   "cell_type": "code",
   "execution_count": 8,
   "metadata": {},
   "outputs": [
    {
     "name": "stdout",
     "output_type": "stream",
     "text": [
      "[4, 5]\n"
     ]
    }
   ],
   "source": [
    "# 18•\tImplement a code to find the intersection of two given lists\n",
    "def intersection_of_lists(l1, l2):\n",
    "    \n",
    "    set1 = set(l1)\n",
    "    set2 = set(l2)\n",
    "    \n",
    "   \n",
    "    intersection = set1 & set2\n",
    "    \n",
    "    # Convert the set back to a list\n",
    "    return list(intersection)\n",
    "\n",
    "# Example usage\n",
    "l1 = [1, 2, 3, 4, 5]\n",
    "l2 = [4, 5, 6, 7, 8]\n",
    "print(intersection_of_lists(l1, l2)) \n",
    "\n",
    "\n",
    "    "
   ]
  },
  {
   "cell_type": "code",
   "execution_count": 9,
   "metadata": {},
   "outputs": [
    {
     "name": "stdout",
     "output_type": "stream",
     "text": [
      "[1, 2, 3, 4, 5, 6, 7, 8]\n"
     ]
    }
   ],
   "source": [
    "# 19•\tCreate a code to find the union of two lists without duplicates\n",
    "def intersection_of_lists(l1, l2):\n",
    "    \n",
    "    set1 = set(l1)\n",
    "    set2 = set(l2)\n",
    "    \n",
    "   \n",
    "    intersection = set1| set2\n",
    "    \n",
    "    # Convert the set back to a list\n",
    "    return list(intersection)\n",
    "\n",
    "# Example usage\n",
    "l1 = [1, 2, 3, 4, 5]\n",
    "l2 = [4, 5, 6, 7, 8]\n",
    "print(intersection_of_lists(l1, l2)) \n"
   ]
  },
  {
   "cell_type": "code",
   "execution_count": 10,
   "metadata": {},
   "outputs": [
    {
     "name": "stdout",
     "output_type": "stream",
     "text": [
      "[5, 4, 2, 3, 1]\n"
     ]
    }
   ],
   "source": [
    "# 20•\tWrite a code to shuffle a given list randomly without using any built-in shuffle functions\n",
    "import random\n",
    "\n",
    "def fisher_yates_shuffle(lst):\n",
    "    n = len(lst)\n",
    "    for i in range(n-1, 0, -1):\n",
    "        j = random.randint(0, i)\n",
    "       \n",
    "        lst[i], lst[j] = lst[j], lst[i]\n",
    "    return lst\n",
    "\n",
    "# Example usage\n",
    "lst = [1, 2, 3, 4, 5]\n",
    "shuffled_lst = fisher_yates_shuffle(lst.copy())\n",
    "print(shuffled_lst)\n"
   ]
  },
  {
   "cell_type": "code",
   "execution_count": null,
   "metadata": {},
   "outputs": [],
   "source": []
  }
 ],
 "metadata": {
  "kernelspec": {
   "display_name": "Python 3",
   "language": "python",
   "name": "python3"
  },
  "language_info": {
   "codemirror_mode": {
    "name": "ipython",
    "version": 3
   },
   "file_extension": ".py",
   "mimetype": "text/x-python",
   "name": "python",
   "nbconvert_exporter": "python",
   "pygments_lexer": "ipython3",
   "version": "3.12.4"
  }
 },
 "nbformat": 4,
 "nbformat_minor": 2
}
