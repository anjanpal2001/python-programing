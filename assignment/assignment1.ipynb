{
 "cells": [
  {
   "cell_type": "code",
   "execution_count": 9,
   "metadata": {},
   "outputs": [
    {
     "data": {
      "text/plain": [
       "'laP najnA'"
      ]
     },
     "execution_count": 9,
     "metadata": {},
     "output_type": "execute_result"
    }
   ],
   "source": [
    "# 1•\tWrite a code to reverse a string\n",
    "s=\"Anjan Pal\"\n",
    "s[::-1]"
   ]
  },
  {
   "cell_type": "code",
   "execution_count": 11,
   "metadata": {},
   "outputs": [
    {
     "data": {
      "text/plain": [
       "2"
      ]
     },
     "execution_count": 11,
     "metadata": {},
     "output_type": "execute_result"
    }
   ],
   "source": [
    "# 2•Write a code to count the number of vowels in a string\n",
    "def count_vowels(s):\n",
    "    count = 0\n",
    "    for char in s:\n",
    "        if char in 'aeiou':\n",
    "            count += 1\n",
    "    return count      \n",
    "count_vowels(s)"
   ]
  },
  {
   "cell_type": "code",
   "execution_count": 13,
   "metadata": {},
   "outputs": [
    {
     "data": {
      "text/plain": [
       "True"
      ]
     },
     "execution_count": 13,
     "metadata": {},
     "output_type": "execute_result"
    }
   ],
   "source": [
    "# 3•\tWrite a code to check if a given string is a palindrome or not\n",
    "def palindrome_or_not(s):\n",
    "    s1=s[::-1]\n",
    "    if(s==s1): return True\n",
    "    else : return False\n",
    "\n",
    "b=input(\"pls enter a string : \")\n",
    "palindrome_or_not(b)"
   ]
  },
  {
   "cell_type": "code",
   "execution_count": 14,
   "metadata": {},
   "outputs": [
    {
     "name": "stdout",
     "output_type": "stream",
     "text": [
      "True\n"
     ]
    }
   ],
   "source": [
    "# 4 •\tWrite a code to check if two given strings are anagrams of each other\n",
    "def are_anagrams(str1, str2):\n",
    "    \n",
    "    str1 = str1.replace(\" \", \"\").lower()\n",
    "    str2 = str2.replace(\" \", \"\").lower()\n",
    "\n",
    "    # Sort both strings and compare\n",
    "    return sorted(str1) == sorted(str2)\n",
    "\n",
    "\n",
    "str1 = \"Listen\"\n",
    "str2 = \"Silent\"\n",
    "print(are_anagrams(str1, str2)) \n"
   ]
  },
  {
   "cell_type": "code",
   "execution_count": 18,
   "metadata": {},
   "outputs": [
    {
     "name": "stdout",
     "output_type": "stream",
     "text": [
      "[2, 5, 25, 28]\n"
     ]
    }
   ],
   "source": [
    "# 5•\tWrite a code to find all occurrences of a given substring within another string\n",
    "def find_all_occurrences(main_string, sub_string):\n",
    "    start = 0\n",
    "    occurrences = []\n",
    "    \n",
    "    while True:\n",
    "        start = main_string.find(sub_string, start)\n",
    "        \n",
    "        # If find() returns -1, no more occurrences are found\n",
    "        if start == -1:\n",
    "            break\n",
    "        \n",
    "        occurrences.append(start)\n",
    "        # Move the start index to the next position after the found substring\n",
    "        start += 1\n",
    "    \n",
    "    return occurrences\n",
    "\n",
    "# Example usage\n",
    "main_string = \"This is a test string. This is only a test.\"\n",
    "sub_string = \"is\"\n",
    "print(find_all_occurrences(main_string, sub_string))\n"
   ]
  },
  {
   "cell_type": "code",
   "execution_count": 19,
   "metadata": {},
   "outputs": [
    {
     "name": "stdout",
     "output_type": "stream",
     "text": [
      "a3b1c5a3\n"
     ]
    }
   ],
   "source": [
    "# 6•\tWrite a code to perform basic string compression using the counts of repeated characters\n",
    "def compress_string(s):\n",
    "    if not s:\n",
    "        return \"\"\n",
    "\n",
    "    compressed = []\n",
    "    count = 1\n",
    "    current_char = s[0]\n",
    "\n",
    "    for i in range(1, len(s)):\n",
    "        if s[i] == current_char:\n",
    "            count += 1\n",
    "        else:\n",
    "            compressed.append(current_char + str(count))\n",
    "            current_char = s[i]\n",
    "            count = 1\n",
    "\n",
    "    # Append the last set of characters\n",
    "    compressed.append(current_char + str(count))\n",
    "\n",
    "    # Join the list into a single string\n",
    "    compressed_string = ''.join(compressed)\n",
    "\n",
    "    return compressed_string if len(compressed_string) < len(s) else s\n",
    "\n",
    "# Example usage\n",
    "input_string = \"aaabcccccaaa\"\n",
    "print(compress_string(input_string))  \n"
   ]
  },
  {
   "cell_type": "code",
   "execution_count": 20,
   "metadata": {},
   "outputs": [
    {
     "name": "stdout",
     "output_type": "stream",
     "text": [
      "True\n",
      "False\n"
     ]
    }
   ],
   "source": [
    "# 7•\tWrite a code to determine if a string has all unique characters\n",
    "def has_all_unique_characters(s):\n",
    "    seen_characters = set()\n",
    "    \n",
    "    for char in s:\n",
    "        if char in seen_characters:\n",
    "            return False\n",
    "        seen_characters.add(char)\n",
    "    \n",
    "    return True\n",
    "\n",
    "# Example usage\n",
    "input_string = \"abcdefg\"\n",
    "print(has_all_unique_characters(input_string)) \n",
    "\n",
    "input_string = \"aabcdefg\"\n",
    "print(has_all_unique_characters(input_string))\n"
   ]
  },
  {
   "cell_type": "code",
   "execution_count": 21,
   "metadata": {},
   "outputs": [
    {
     "name": "stdout",
     "output_type": "stream",
     "text": [
      "('HELLO WORLD', 'hello world')\n"
     ]
    }
   ],
   "source": [
    "# 8•\tWrite a code to convert a given string to uppercase or lowercase\n",
    "def to_uppercase(s):\n",
    "    return s.upper(),s.lower()\n",
    "\n",
    "\n",
    "input_string = \"Hello World\"\n",
    "print(to_uppercase(input_string))  \n"
   ]
  },
  {
   "cell_type": "code",
   "execution_count": 23,
   "metadata": {},
   "outputs": [
    {
     "name": "stdout",
     "output_type": "stream",
     "text": [
      "6\n"
     ]
    }
   ],
   "source": [
    "# 9•\tWrite a code to count the number of words in a string\n",
    "def count_words(s):\n",
    "    # Split the string into words using whitespace as the separator\n",
    "    words = s.split()\n",
    "   \n",
    "    # print(words)\n",
    "    return len(words)\n",
    "\n",
    "\n",
    "input_string = \"Hello, this is a test string.\"\n",
    "print(count_words(input_string))  \n"
   ]
  },
  {
   "cell_type": "code",
   "execution_count": 26,
   "metadata": {},
   "outputs": [
    {
     "name": "stdout",
     "output_type": "stream",
     "text": [
      "Anjan pal\n"
     ]
    }
   ],
   "source": [
    "# 10•\tWrite a code to concatenate two strings without using the + operator\n",
    "def concatenation(s1, s2):\n",
    "    return \"\".join([s1, s2])\n",
    "\n",
    "print(concatenation(\"Anjan \", \"pal\")) \n"
   ]
  },
  {
   "cell_type": "code",
   "execution_count": null,
   "metadata": {},
   "outputs": [],
   "source": []
  }
 ],
 "metadata": {
  "kernelspec": {
   "display_name": "Python 3",
   "language": "python",
   "name": "python3"
  },
  "language_info": {
   "codemirror_mode": {
    "name": "ipython",
    "version": 3
   },
   "file_extension": ".py",
   "mimetype": "text/x-python",
   "name": "python",
   "nbconvert_exporter": "python",
   "pygments_lexer": "ipython3",
   "version": "3.12.4"
  }
 },
 "nbformat": 4,
 "nbformat_minor": 2
}
